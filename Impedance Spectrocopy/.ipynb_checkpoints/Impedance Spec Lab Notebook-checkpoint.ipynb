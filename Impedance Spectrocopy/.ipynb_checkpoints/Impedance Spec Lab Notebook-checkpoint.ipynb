{
 "cells": [
  {
   "cell_type": "code",
   "execution_count": 9,
   "id": "2c2513ef",
   "metadata": {},
   "outputs": [
    {
     "name": "stdout",
     "output_type": "stream",
     "text": [
      "omega_crit = 19273\n",
      "f_crit = 3067\n"
     ]
    }
   ],
   "source": [
    "import numpy as np \n",
    "import matplotlib.pyplot as plt \n",
    "\n",
    "R0a = 9824 #Ohms\n",
    "sigma_R0a = 1 #Ohm \n",
    "R0b = 986000 #Ohms\n",
    "sigma_R0b = 1 #Ohm \n",
    "\n",
    "R1 = 197.4 #Ohms \n",
    "sigma_R1 =  0.1 #Ohms\n",
    "R2 = 19.7 #Ohms \n",
    "sigma_R2 = 0.1 #Ohms \n",
    "\n",
    "C2 = 0.239e-6 # Farads \n",
    "sigma_C2 = 0.0005e-6 #Farads\n",
    "\n",
    "omega_crit = (C2*(R1+R2))**(-1)\n",
    "print(f'omega_crit = {round(omega_crit)}')\n",
    "\n",
    "f_crit = omega_crit/(2*np.pi)\n",
    "print(f'f_crit = {round(f_crit)}')\n",
    "\n"
   ]
  },
  {
   "cell_type": "code",
   "execution_count": null,
   "id": "6dc1daa5",
   "metadata": {},
   "outputs": [],
   "source": []
  }
 ],
 "metadata": {
  "kernelspec": {
   "display_name": "Python 3 (ipykernel)",
   "language": "python",
   "name": "python3"
  },
  "language_info": {
   "codemirror_mode": {
    "name": "ipython",
    "version": 3
   },
   "file_extension": ".py",
   "mimetype": "text/x-python",
   "name": "python",
   "nbconvert_exporter": "python",
   "pygments_lexer": "ipython3",
   "version": "3.11.5"
  }
 },
 "nbformat": 4,
 "nbformat_minor": 5
}
