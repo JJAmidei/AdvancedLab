{
 "cells": [
  {
   "cell_type": "code",
   "execution_count": 9,
   "id": "1ed06a02",
   "metadata": {},
   "outputs": [
    {
     "name": "stdout",
     "output_type": "stream",
     "text": [
      "omega_crit = 19273\n",
      "f_crit = 3067\n"
     ]
    }
   ],
   "source": [
    "import numpy as np \n",
    "import matplotlib.pyplot as plt \n",
    "\n",
    "R0a = 9824 #Ohms\n",
    "sigma_R0a = 1 #Ohm \n",
    "R0b = 986000 #Ohms\n",
    "sigma_R0b = 1 #Ohm \n",
    "\n",
    "R1 = 197.4 #Ohms \n",
    "sigma_R1 =  0.1 #Ohms\n",
    "R2 = 19.7 #Ohms \n",
    "sigma_R2 = 0.1 #Ohms \n",
    "\n",
    "C2 = 0.239e-6 # Farads \n",
    "sigma_C2 = 0.0005e-6 #Farads\n",
    "\n",
    "omega_crit = (C2*(R1+R2))**(-1)\n",
    "print(f'omega_crit = {round(omega_crit)}')\n",
    "\n",
    "f_crit = omega_crit/(2*np.pi)\n",
    "print(f'f_crit = {round(f_crit)}')"
   ]
  },
  {
   "cell_type": "markdown",
   "id": "a50cb094",
   "metadata": {},
   "source": [
    "# Data with R0a\n",
    "\n",
    "RMS (measured $0.70746 \\text{ V} \\text{ +/- } 0.00001 \\text{ V}$amplitude on digital multi-meter found when the function generator had an amplitude of $2.05 V_{pp}$."
   ]
  },
  {
   "cell_type": "code",
   "execution_count": 10,
   "id": "dd659aee",
   "metadata": {},
   "outputs": [],
   "source": [
    "freqs = np.array([100, 200, 400, 600, 800, 1000, 2000, 4000, 6000, 8000, 10000])\n",
    "V = np.array([14.3, ])\n"
   ]
  },
  {
   "cell_type": "code",
   "execution_count": 16,
   "id": "f9c1f1f4",
   "metadata": {},
   "outputs": [
    {
     "data": {
      "text/plain": [
       "180.0"
      ]
     },
     "execution_count": 16,
     "metadata": {},
     "output_type": "execute_result"
    }
   ],
   "source": [
    "(1000 - 100)/5"
   ]
  },
  {
   "cell_type": "code",
   "execution_count": null,
   "id": "dec4cdb2",
   "metadata": {},
   "outputs": [],
   "source": []
  }
 ],
 "metadata": {
  "kernelspec": {
   "display_name": "Python 3 (ipykernel)",
   "language": "python",
   "name": "python3"
  },
  "language_info": {
   "codemirror_mode": {
    "name": "ipython",
    "version": 3
   },
   "file_extension": ".py",
   "mimetype": "text/x-python",
   "name": "python",
   "nbconvert_exporter": "python",
   "pygments_lexer": "ipython3",
   "version": "3.11.5"
  }
 },
 "nbformat": 4,
 "nbformat_minor": 5
}
