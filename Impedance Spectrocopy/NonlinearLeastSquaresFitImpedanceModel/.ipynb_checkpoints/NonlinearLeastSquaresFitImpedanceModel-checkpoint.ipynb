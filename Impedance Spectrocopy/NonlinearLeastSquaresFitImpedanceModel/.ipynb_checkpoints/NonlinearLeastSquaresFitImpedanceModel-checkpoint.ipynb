{
 "cells": [
  {
   "cell_type": "markdown",
   "id": "a6e6ec76",
   "metadata": {},
   "source": [
    "# Nonlinear Least Squares Fit"
   ]
  },
  {
   "cell_type": "markdown",
   "id": "193f34f4",
   "metadata": {},
   "source": [
    "## Example - Impedance Spectrum Model\n",
    "\n",
    "![Tissue RC model](./drawingsImages/tissueRCmodel.png)\n",
    "\n",
    "We have a model for the impedance for the circuit shown. Our goal is to fit data to this model to find key parameters.\n",
    "\n",
    "$$\\frac{Z}{R_1}=\\frac{1+j\\frac{\\omega}{\\omega_c}\\frac{1}{1+\\frac{R_1}{R_2}}}{1+j\\frac{\\omega}{\\omega_c}} = \\frac{\\left[1+\\left(\\frac{\\omega}{\\omega_c}\\right)^2\\frac{1}{1+\\frac{R_1}{R_2}}\\right]-j\\left[\\frac{\\omega}{\\omega_c}\\frac{\\frac{R1}{R2}}{1+\\frac{R1}{R2}}\\right]}{1+\\left(\\frac{\\omega}{\\omega_c}\\right)^2}.$$\n",
    "\n",
    "where $R_1$ is the DC (zero frequency) resistance of the sample and\n",
    "\n",
    "$$\\omega_c \\equiv \\frac{1}{(R_1+R_2)C_2}.$$\n",
    "\n",
    "Let's rewrite the inmpedance in a convenient for by defining\n",
    "\n",
    "$$ r \\equiv \\frac{R_1}{R_2} $$\n",
    "\n",
    "$$ \\tau = \\frac{1}{\\omega_c}$$\n",
    "\n",
    "and\n",
    "\n",
    "$$f = \\frac{\\omega}{2\\pi}.$$\n",
    "\n",
    "$$\\frac{Z}{R_1}=\\frac{1+j2\\pi f\\tau\\frac{1}{1+r}}{1+j2\\pi f\\tau}.$$\n",
    "\n",
    "Then the magnitude is given by\n",
    "\n",
    "$$\\frac{|Z|}{R_1} = \\sqrt{\\frac{1+(2 \\pi f\\tau)^2\\frac{1}{(1+r)^2}}{1+(2 \\pi f\\tau)^2}}.$$\n",
    "\n",
    "Note that the normalization by $R_1$ has a deeper purpose: when modeling materials like biological tissues, the normalization should account for size effects. A hypothesis is that the remaining parameters of the model, $r$ and $\\tau$, are intrinsic characteristics independent of size. (This is something to be tested.)\n",
    "\n",
    "The following code will fit data to the moddel to find estimates of the parameters $r$ and $\\tau$ given a separately measured value for $R_1$, the DC resistance. (A section of the code synthesizes some randomized data to test the fitting, but the data arrays for frequency $f$ and normalized impedance magnitude $z \\equiv |Z|/R_1$ can be used instead.\n",
    "\n",
    "The key to doing the fit is the library function curve_fit. It is strongly recommended to go read the documentation at\n",
    "\n",
    "https://docs.scipy.org/doc/scipy/reference/generated/scipy.optimize.curve_fit.html\n",
    "\n",
    "and to find further readings on nonlinear least squares methods, e.g. at\n",
    "\n",
    "https://en.wikipedia.org/wiki/Non-linear_least_squares"
   ]
  },
  {
   "cell_type": "code",
   "execution_count": 1,
   "id": "2e33a084",
   "metadata": {},
   "outputs": [
    {
     "name": "stdout",
     "output_type": "stream",
     "text": [
      "Randall Tagg 2024-03-25 23:54:54 \n",
      "\n",
      "rguess = 9.0  tauguess = 3.979e-05 s\n",
      "rfit = 10.603  taufit = 2.869e-05 s   fcfit = 5.548e+03 Hz\n",
      "R1 = 220.0 ohms    R2fit = 20.7 ohms   Cfit = 1.192e-07 F\n"
     ]
    },
    {
     "data": {
      "image/png": "[encoded data removed]",
      "text/plain": [
       "<Figure size 640x480 with 1 Axes>"
      ]
     },
     "metadata": {},
     "output_type": "display_data"
    },
    {
     "name": "stdout",
     "output_type": "stream",
     "text": [
      "[0.9998388  0.99959523 0.9989842  0.99745433 0.99364259 0.98425928\n",
      " 0.96182514 0.91166962 0.81401596 0.66348695 0.49094814 0.34025604\n",
      " 0.23150404 0.16228349 0.12264668 0.10233691 0.09296196 0.08894457\n",
      " 0.08729207 0.08662515 0.08635816]\n"
     ]
    }
   ],
   "source": [
    "import numpy as np\n",
    "import matplotlib.pyplot as plt\n",
    "from scipy import stats\n",
    "from scipy.optimize import curve_fit\n",
    "import math\n",
    "import datetime \n",
    "\n",
    "# Create a time stamp for each run\n",
    "my_name = \"Randall Tagg\"\n",
    "time_stamp_format = \"%Y-%m-%d %H:%M:%S\"\n",
    "print(my_name,datetime.datetime.now().strftime(time_stamp_format),'\\n')\n",
    "\n",
    "# Define the model function to be fit to find parameters r and tau\n",
    "def zfunc(ff,rr,tautau): #operates on an array of frequency values ff\n",
    "    ft2 = (2*math.pi*ff*tautau)**2\n",
    "    zz = np.sqrt((1+ft2/(1+rr)**2)/(1+ft2))\n",
    "    return zz # returns an array of impedance magnitudes\n",
    "\n",
    "#***************** Construct synthetic data arrays **********************\n",
    "# This section can be replaced with actual data including a value for DC recistance R1#\n",
    "\n",
    "r = 10.0\n",
    "tau = 30.0E-6\n",
    "R1 = 220\n",
    "zsigma_rel = 0.05 # relative uncertainty in impedance measurement\n",
    "\n",
    "fbase = 100 #Hz \n",
    "N = 5 # samples per decade of relative parameter murel = (mu-muc)/muc\n",
    "D = 4 # number of decades\n",
    "Ndata = D*N+1\n",
    "\n",
    "# frequency data - indpendent variable\n",
    "f = np.zeros(Ndata)\n",
    "f[0] = fbase\n",
    "multiplier = 10**(1./N)\n",
    "for i in range(1,Ndata):\n",
    "    f[i] = f[i-1]*multiplier\n",
    "\n",
    "# normalized impedance data (impedance divided by DC resistance R1)\n",
    "zexact = zfunc(f, r, tau) \n",
    "zsigma = zsigma_rel*zexact\n",
    "z = np.random.normal(zexact, zsigma, Ndata) # create some random variation\n",
    "\n",
    "#Alternate method to generate synthetic values of z that does not use array operations\n",
    "'''\n",
    "zexact = np.zeros(Ndata)\n",
    "#zsigma = np.zeros(Ndata)\n",
    "#z = np.zeros(Ndata)\n",
    "\n",
    "for i in range(0,Ndata):\n",
    "    #ft2 = (2*math.pi*f[i]*tau)**2\n",
    "    #zexact[i] = math.sqrt((1+ft2/(1+r)**2)/(1+ft2))\n",
    "    zexact[i]=zfunc(f[i],r,tau)\n",
    "    zsigma[i] = zsigma_rel*zexact[i]\n",
    "    z[i] = np.random.normal(zexact[i], zsigma[i], 1) # generate random variation\n",
    "'''\n",
    "#***************** End of synthetic data section **********************\n",
    "\n",
    "# Do nonlinear least squares fit; so far, there is not any use of uncertainties\n",
    "# https://docs.scipy.org/doc/scipy/reference/generated/scipy.optimize.curve_fit.html\n",
    "\n",
    "rguess = 9. # guess of ratio of DC resistance R1 to capacitive path resistance R2\n",
    "fcguess = 4E3 # guess of critical frequency in Hz\n",
    "tauguess = 1/(2*math.pi*fcguess)\n",
    "print('rguess = {0:.1f}  tauguess = {1:.3e} s'.format(rguess,tauguess))\n",
    "\n",
    "popt, pcov = curve_fit(zfunc,f,z,p0=[rguess,tauguess])\n",
    "rfit = popt[0]\n",
    "taufit = popt[1]\n",
    "\n",
    "print('rfit = {0:.3f}  taufit = {1:.3e} s   fcfit = {2:.3e} Hz'\n",
    "      .format(rfit,taufit,1/(2*math.pi*taufit)))\n",
    "print('R1 = {0:.1f} ohms    R2fit = {1:.1f} ohms   Cfit = {2:.3e} F'\n",
    "      .format(R1,R1/rfit,taufit/(R1*(1+1/rfit))))\n",
    "zfit = zfunc(f,rfit,taufit)\n",
    "\n",
    "# Plot data and fit\n",
    "\n",
    "plt.plot(f,z*R1,'r.',f,zfit*R1)\n",
    "plt.xscale('log')\n",
    "plt.errorbar(f,z*R1,yerr=zsigma*R1,fmt='r.')\n",
    "plt.xlabel('f Hz')\n",
    "plt.ylabel('|Z| ohms')\n",
    "plt.show()\n",
    "\n",
    "print(zfit)"
   ]
  },
  {
   "cell_type": "code",
   "execution_count": null,
   "id": "e5ddbea2",
   "metadata": {},
   "outputs": [],
   "source": [
    "\n"
   ]
  },
  {
   "cell_type": "code",
   "execution_count": null,
   "id": "d651e53b",
   "metadata": {},
   "outputs": [],
   "source": []
  }
 ],
 "metadata": {
  "kernelspec": {
   "display_name": "Python 3 (ipykernel)",
   "language": "python",
   "name": "python3"
  },
  "language_info": {
   "codemirror_mode": {
    "name": "ipython",
    "version": 3
   },
   "file_extension": ".py",
   "mimetype": "text/x-python",
   "name": "python",
   "nbconvert_exporter": "python",
   "pygments_lexer": "ipython3",
   "version": "3.11.5"
  }
 },
 "nbformat": 4,
 "nbformat_minor": 5
}
