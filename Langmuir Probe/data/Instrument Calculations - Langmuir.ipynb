{
 "cells": [
  {
   "cell_type": "markdown",
   "id": "2f6a8f91",
   "metadata": {},
   "source": [
    "### Instrumentation/Data Analysis Questions \n",
    "\n",
    "-----------------------------------------------------------\n",
    "\n",
    "James Amidei, Max Markgraf, Zach Stedman\n",
    "\n",
    "EXERCISE 1 Explain in your own words why there is an exponential form for the dependence of ion or electron current on voltage when for ions V_B ≥ V_P and for electrons V_B ≤ V_P.\n",
    "\n",
    "* When an electrode has a different potential than the surrounding plasma, the electrons and ions in the plasma will configure themselves around it in order to limit the effect of this potential difference on the bulk plasma. In the case of a negatively biased electrode, electrons will be repeled, and thus the electron density will decrease. Additionally, the ions will be attracted to, and accelerate towards the electrode, decreasing the ion density in the plasma. When this happens, a positve sheath forms around the electrode since the ion density will exceed the electron desnity at the sheaths edge. In order for the ion density to decrease more slowly than the electron density, the ions must approach the sheath with a speed exceeding the Bohm velocity. The ions acheive this speed by picking up kinetic energy as they move through the plasma. *\n",
    "\n",
    "* In other words, when the bias voltage is greater than the plasma potential, the ions will accelerate towards the electrode, and collide with its curface, resulting in the flow of ion current onto the electrode. As the voltage increases, the number of ions contribuing to the ion current will reach the total number of avalvible ions, and thus the increase of the ion current will decrease exponentially.*\n",
    "\n",
    "\n",
    "EXERCISE 2 Use equations 1 and 5 from Merlino to write down an expression for the total current measured when the bias potential is less than the plasma potential: V_B < V_P.\n",
    "\n",
    "\n",
    "$I_{tot} = I_{e}(V_B) + I_{i}(V_B) = I_{es}exp[-e(V_P - V_B)/kT_e] - I_{is} $\n",
    "\n",
    "EXERCISE 3 Solve this equation for the electron current I_e in terms of the ion saturation current I_is and the bias potential V_B.\n",
    "\n",
    "$I_{tot} - I_i = I_{e}+ I_{i} - I_i = I_{es}exp[-e(V_P - V_B)/kT_e] - I_{is} + I_{is} $\n",
    "\n",
    "$ I_{e} = I_{es}exp[-e(V_P - V_B)/kT_e] $\n",
    "\n",
    "EXERCISE 4 Write down an equation for the natural log of the electron current.\n",
    "\n",
    "$ ln(l_{e}) = \\frac{-e(V_P - V_B)}{kT_e}ln(V_{es}) $\n",
    "\n",
    "$ ln(I_{e}) = ln(I_{es}exp[-e(V_P - V_B)/kT_e]) = ln(I_{es}) + ln(e^{\\frac{-eV_P}{kT_e}}) + ln(e^{\\frac{eV_B}{kT_e}})$\n",
    "\n",
    "$ ln(I_{e}) = ln(I_{es}) + \\frac{-e}{kT_e}V_p + \\frac{e}{kT_e}V_B$\n",
    "\n",
    "We can bring the constant into one term that will be the intercept of our linearized equation, i.e. $C = ln(I_{es}) - \\frac{e}{kT_e}V_p$.\n",
    "\n",
    "$ ln(I_{e}) = C + \\frac{e}{kT_e}V_B$\n",
    "\n",
    "$y = C + mx$\n",
    "\n",
    "EXERCISE 5 Find an expression for the uncertainty of the natural log of the current  in terms of the uncertainty of the current. (Note: In the instrumentation portion of this experiment you should find information that lets you estimate the instrumental uncertainty in the current measurements. You can and should repeat measurements to empirically identify the current uncertainties.)\n",
    "\n",
    "$\\sigma_{ln(I_{e})} = \\frac{\\sigma_{I_{e}}}{I_{e}}$\n",
    "\n",
    "EXERCISE 6 Write down an expression for the slope of a plot of the natural log of electron current I_e versus bias potential."
   ]
  },
  {
   "cell_type": "code",
   "execution_count": null,
   "id": "f136e7f8",
   "metadata": {},
   "outputs": [],
   "source": []
  }
 ],
 "metadata": {
  "kernelspec": {
   "display_name": "Python 3 (ipykernel)",
   "language": "python",
   "name": "python3"
  },
  "language_info": {
   "codemirror_mode": {
    "name": "ipython",
    "version": 3
   },
   "file_extension": ".py",
   "mimetype": "text/x-python",
   "name": "python",
   "nbconvert_exporter": "python",
   "pygments_lexer": "ipython3",
   "version": "3.11.5"
  }
 },
 "nbformat": 4,
 "nbformat_minor": 5
}
