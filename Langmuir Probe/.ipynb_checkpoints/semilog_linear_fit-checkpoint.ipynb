{
 "cells": [
  {
   "cell_type": "code",
   "execution_count": 8,
   "id": "89658418",
   "metadata": {},
   "outputs": [],
   "source": [
    "import numpy as np \n",
    "from scipy.optimize import curve_fit\n",
    "#numpy array from csv file\n",
    "\n",
    "data = np.genfromtxt('data\\good_data\\plasmaIV_1000V_521mtorr_1_-450_-150_2_1712945999.3000262.csv', delimiter=',')\n",
    "xdata = data[:, 0]\n",
    "ydata = data[:, 1]\n",
    "#data"
   ]
  },
  {
   "cell_type": "code",
   "execution_count": 9,
   "id": "43c8f2ce",
   "metadata": {},
   "outputs": [],
   "source": [
    "# load data\n",
    "\n",
    "np.load = \"electroncurrentlinear.npy\"\n",
    "voltage = data[:, 0]\n",
    "current = data[:, 1]"
   ]
  },
  {
   "cell_type": "code",
   "execution_count": 10,
   "id": "08092d91",
   "metadata": {},
   "outputs": [
    {
     "name": "stderr",
     "output_type": "stream",
     "text": [
      "C:\\Users\\Jamidei\\AppData\\Local\\Temp\\ipykernel_44136\\1205319410.py:4: RuntimeWarning: invalid value encountered in log\n",
      "  popt, pcov = curve_fit(func, voltage, np.log(current))\n"
     ]
    },
    {
     "ename": "ValueError",
     "evalue": "array must not contain infs or NaNs",
     "output_type": "error",
     "traceback": [
      "\u001b[1;31m---------------------------------------------------------------------------\u001b[0m",
      "\u001b[1;31mValueError\u001b[0m                                Traceback (most recent call last)",
      "Cell \u001b[1;32mIn[10], line 4\u001b[0m\n\u001b[0;32m      1\u001b[0m \u001b[38;5;28;01mdef\u001b[39;00m \u001b[38;5;21mfunc\u001b[39m(x, a, b):\n\u001b[0;32m      2\u001b[0m     \u001b[38;5;28;01mreturn\u001b[39;00m a\u001b[38;5;241m*\u001b[39mx \u001b[38;5;241m+\u001b[39m b\n\u001b[1;32m----> 4\u001b[0m popt, pcov \u001b[38;5;241m=\u001b[39m curve_fit(func, voltage, np\u001b[38;5;241m.\u001b[39mlog(current))\n\u001b[0;32m      6\u001b[0m plt\u001b[38;5;241m.\u001b[39msemilogy(voltage, np\u001b[38;5;241m.\u001b[39mexp(func(voltage, popt[\u001b[38;5;241m0\u001b[39m], popt[\u001b[38;5;241m1\u001b[39m])), color\u001b[38;5;241m=\u001b[39m\u001b[38;5;124m'\u001b[39m\u001b[38;5;124mr\u001b[39m\u001b[38;5;124m'\u001b[39m, label\u001b[38;5;241m=\u001b[39m\u001b[38;5;124m'\u001b[39m\u001b[38;5;124mLog(Ie)Linear Fit\u001b[39m\u001b[38;5;124m'\u001b[39m)\n\u001b[0;32m      9\u001b[0m \u001b[38;5;66;03m# Plot electron saturation region (semi-log plot)\u001b[39;00m\n",
      "File \u001b[1;32m~\\anaconda3\\Lib\\site-packages\\scipy\\optimize\\_minpack_py.py:888\u001b[0m, in \u001b[0;36mcurve_fit\u001b[1;34m(f, xdata, ydata, p0, sigma, absolute_sigma, check_finite, bounds, method, jac, full_output, nan_policy, **kwargs)\u001b[0m\n\u001b[0;32m    886\u001b[0m \u001b[38;5;66;03m# optimization may produce garbage for float32 inputs, cast them to float64\u001b[39;00m\n\u001b[0;32m    887\u001b[0m \u001b[38;5;28;01mif\u001b[39;00m check_finite:\n\u001b[1;32m--> 888\u001b[0m     ydata \u001b[38;5;241m=\u001b[39m np\u001b[38;5;241m.\u001b[39masarray_chkfinite(ydata, \u001b[38;5;28mfloat\u001b[39m)\n\u001b[0;32m    889\u001b[0m \u001b[38;5;28;01melse\u001b[39;00m:\n\u001b[0;32m    890\u001b[0m     ydata \u001b[38;5;241m=\u001b[39m np\u001b[38;5;241m.\u001b[39masarray(ydata, \u001b[38;5;28mfloat\u001b[39m)\n",
      "File \u001b[1;32m~\\anaconda3\\Lib\\site-packages\\numpy\\lib\\function_base.py:628\u001b[0m, in \u001b[0;36masarray_chkfinite\u001b[1;34m(a, dtype, order)\u001b[0m\n\u001b[0;32m    626\u001b[0m a \u001b[38;5;241m=\u001b[39m asarray(a, dtype\u001b[38;5;241m=\u001b[39mdtype, order\u001b[38;5;241m=\u001b[39morder)\n\u001b[0;32m    627\u001b[0m \u001b[38;5;28;01mif\u001b[39;00m a\u001b[38;5;241m.\u001b[39mdtype\u001b[38;5;241m.\u001b[39mchar \u001b[38;5;129;01min\u001b[39;00m typecodes[\u001b[38;5;124m'\u001b[39m\u001b[38;5;124mAllFloat\u001b[39m\u001b[38;5;124m'\u001b[39m] \u001b[38;5;129;01mand\u001b[39;00m \u001b[38;5;129;01mnot\u001b[39;00m np\u001b[38;5;241m.\u001b[39misfinite(a)\u001b[38;5;241m.\u001b[39mall():\n\u001b[1;32m--> 628\u001b[0m     \u001b[38;5;28;01mraise\u001b[39;00m \u001b[38;5;167;01mValueError\u001b[39;00m(\n\u001b[0;32m    629\u001b[0m         \u001b[38;5;124m\"\u001b[39m\u001b[38;5;124marray must not contain infs or NaNs\u001b[39m\u001b[38;5;124m\"\u001b[39m)\n\u001b[0;32m    630\u001b[0m \u001b[38;5;28;01mreturn\u001b[39;00m a\n",
      "\u001b[1;31mValueError\u001b[0m: array must not contain infs or NaNs"
     ]
    }
   ],
   "source": [
    "def func(x, a, b):\n",
    "    return a*x + b\n",
    "\n",
    "popt, pcov = curve_fit(func, voltage, np.log(current))\n",
    "\n",
    "plt.semilogy(voltage, np.exp(func(voltage, popt[0], popt[1])), color='r', label='Log(Ie)Linear Fit')\n",
    "\n",
    "\n",
    "# Plot electron saturation region (semi-log plot)\n",
    "plt.semilogy(voltage, current, linestyle='--', label='Current-Voltage Characteristics (Semi-log)')\n",
    "plt.xlabel('Voltage (V)')\n",
    "plt.ylabel('Log(Electron Current) (Arbitrary Units)')\n",
    "plt.title('Semi-log Electron Current')\n",
    "\n",
    "####Plasma Potential Line###\n",
    "#plt.axvline(x=-225, color='k', linestyle='-', label='Plasma Potential V=-225')\n",
    "\n",
    "##Electron Saturation Current###\n",
    "#plt.axhline(y=0.0012, color='r', linestyle='-', label='Electron Saturation Current')\n",
    "\n",
    "plt.grid(True)\n",
    "plt.legend()\n",
    "\n",
    "####Save fig\n",
    "plt.savefig('semilogcurvefit.png')\n",
    "\n",
    "\n",
    "plt.show()\n",
    "\n",
    "print (popt)\n",
    "print (pcov)"
   ]
  },
  {
   "cell_type": "code",
   "execution_count": null,
   "id": "6ac05cc4",
   "metadata": {},
   "outputs": [],
   "source": []
  }
 ],
 "metadata": {
  "kernelspec": {
   "display_name": "Python 3 (ipykernel)",
   "language": "python",
   "name": "python3"
  },
  "language_info": {
   "codemirror_mode": {
    "name": "ipython",
    "version": 3
   },
   "file_extension": ".py",
   "mimetype": "text/x-python",
   "name": "python",
   "nbconvert_exporter": "python",
   "pygments_lexer": "ipython3",
   "version": "3.11.5"
  }
 },
 "nbformat": 4,
 "nbformat_minor": 5
}
